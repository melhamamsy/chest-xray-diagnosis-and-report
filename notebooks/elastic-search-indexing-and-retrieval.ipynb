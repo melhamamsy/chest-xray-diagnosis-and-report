{
 "cells": [
  {
   "cell_type": "code",
   "execution_count": null,
   "id": "b51cd8c0-c712-4911-9a1a-9d708ecbdda1",
   "metadata": {},
   "outputs": [],
   "source": [
    "from transformers import CLIPProcessor, CLIPModel\n",
    "\n",
    "# Step 1: Load the pre-trained CLIP model and processor\n",
    "model = CLIPModel.from_pretrained(\"openai/clip-vit-base-patch32\")\n",
    "processor = CLIPProcessor.from_pretrained(\"openai/clip-vit-base-patch32\")\n",
    "\n",
    "# Step 2: Load an image\n",
    "image = full_dataset['train'][0]['image']\n",
    "\n",
    "# Step 3: Preprocess the image and convert it to a vector\n",
    "inputs = processor(images=image, return_tensors=\"pt\")\n",
    "outputs = model.get_image_features(**inputs)\n",
    "\n",
    "# Step 4: Get the vector representation\n",
    "image_vector = outputs[0].detach().numpy()\n",
    "image_vector.shape"
   ]
  }
 ],
 "metadata": {
  "kernelspec": {
   "display_name": "Python (vit-env)",
   "language": "python",
   "name": "vit-env"
  },
  "language_info": {
   "codemirror_mode": {
    "name": "ipython",
    "version": 3
   },
   "file_extension": ".py",
   "mimetype": "text/x-python",
   "name": "python",
   "nbconvert_exporter": "python",
   "pygments_lexer": "ipython3",
   "version": "3.11.9"
  }
 },
 "nbformat": 4,
 "nbformat_minor": 5
}
